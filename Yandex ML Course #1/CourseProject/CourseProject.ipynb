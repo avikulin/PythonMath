{
 "cells": [
  {
   "cell_type": "code",
   "execution_count": 4,
   "metadata": {
    "collapsed": true
   },
   "outputs": [],
   "source": [
    "import math\n",
    "import numpy as np\n",
    "from matplotlib import pyplot as plt"
   ]
  },
  {
   "cell_type": "markdown",
   "metadata": {},
   "source": [
    "# Постановка задачи"
   ]
  },
  {
   "cell_type": "markdown",
   "metadata": {},
   "source": [
    "В рамках данной работы выполняются следующие задачи:\n",
    "<ol>\n",
    "<li>Определение функции (CDF) и плотности (PDF)  синтетического распределения Z=X+Y, причем X~Triang(0,2) и Y~Exp(0.25).</li>\n",
    "<li>Генерация выборки для данного синтетического распределения Z объемом 10 000 элементов</li>\n",
    "<li>Построение распределения выборочных средних объема 1, 3, 5, 7 элементов</li>\n",
    "</ol>"
   ]
  },
  {
   "cell_type": "markdown",
   "metadata": {},
   "source": [
    "<h3>1. Определение CDF и PDF синтетиского распределения</h3>\n",
    "\n",
    "Введем определение исходных распределений:"
   ]
  },
  {
   "cell_type": "markdown",
   "metadata": {},
   "source": [
    "${Z=X + Y}, \\quad \n",
    "{X \\thicksim Triang\\left(0,2\\right)\\quad Y \\thicksim Exp\\left(\\frac{1}{4}\\right) }\n",
    "$\n",
    "\n",
    "${f_x =\n",
    "  \\begin{cases}\n",
    "    0    & , x < 0\\\\\n",
    "    x    & , 0\\leq x \\leq 1\\\\\n",
    "    2-x  & , 1\\leq x \\leq2\\\\\n",
    "    0    & , 0 < x\\\\\n",
    "  \\end{cases}\n",
    "} \\quad \\quad \\quad \\quad\n",
    "$\n",
    "${f_y = \\frac{1}{4}\\mathrm{e}^{-\\frac{y}{4}} ,\\quad y \\in \\left(0, +\\infty \\right) }\n",
    "$"
   ]
  },
  {
   "cell_type": "markdown",
   "metadata": {},
   "source": [
    "Графики плотности (PDF) данных распределений изображены ниже:"
   ]
  },
  {
   "cell_type": "code",
   "execution_count": null,
   "metadata": {},
   "outputs": [],
   "source": []
  }
 ],
 "metadata": {
  "kernelspec": {
   "display_name": "Python 2",
   "language": "python",
   "name": "python2"
  },
  "language_info": {
   "codemirror_mode": {
    "name": "ipython",
    "version": 2
   },
   "file_extension": ".py",
   "mimetype": "text/x-python",
   "name": "python",
   "nbconvert_exporter": "python",
   "pygments_lexer": "ipython2",
   "version": "2.7.16"
  }
 },
 "nbformat": 4,
 "nbformat_minor": 2
}
