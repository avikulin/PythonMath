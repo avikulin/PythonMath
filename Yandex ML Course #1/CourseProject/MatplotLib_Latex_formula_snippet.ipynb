{
 "cells": [
  {
   "cell_type": "markdown",
   "metadata": {},
   "source": [
    "$${f_x =\n",
    "  \\begin{cases}\n",
    "    0    & , x < 0\\\\\n",
    "    x    & , 0\\leq x \\leq 1\\\\\n",
    "    2-x  & , 1\\leq x \\leq2\\\\\n",
    "    0    & , 0 < x\\\\\n",
    "  \\end{cases}\n",
    "} \\quad \\quad \\quad \\quad\n",
    "{f_y = \\frac{1}{4}\\mathrm{e}^{-\\frac{y}{4}}}$$"
   ]
  },
  {
   "cell_type": "markdown",
   "metadata": {},
   "source": [
    "$$\n",
    "f_{xy} (X=x, Y=y) = \\begin{cases}\n",
    "\\frac{x}{4}\\mathrm{e}^{-\\frac{y}{4}}, D\\left\\{x,y: x \\in (0,1), y \\in (0,+\\infty)\\right\\}\\\\\n",
    "\\frac{2-x}{4}\\mathrm{e}^{-\\frac{y}{4}}, D\\left\\{x,y: x \\in (1,2), y \\in (0,+\\infty)\\right\\}\\\\\n",
    "0, D\\left\\{x,y: x \\notin (1,2), y < 0)\\right\\}\\\\\n",
    "\\end{cases}\n",
    "$$"
   ]
  },
  {
   "cell_type": "markdown",
   "metadata": {},
   "source": [
    "$$\n",
    "{\\text{если } 0<z<1, }\\\\\n",
    "F_z = P(Z<z)=P(X+Y<z)=\\int_0^z\\mathrm{d}x \\int_0^{\\left( z-x \\right)} \\left( \n",
    "\\frac{x}{4}\\mathrm{e}^{-\\frac{y}{4}} \\right) \\mathrm{d}y = \\frac{z^2}{2}-4\\left(z+4\\mathrm{e}^{-\\frac{z}{4}} - 4\\right)\\\\  \n",
    "$$"
   ]
  },
  {
   "cell_type": "markdown",
   "metadata": {},
   "source": [
    "$$ \\text{если } 1<z<2, \\\\\n",
    "F_z = P(Z<z)=P(X+Y<z)={\\int_0^1\\mathrm{d}x \\int_0^{\\left( z-x \\right)} \\left( \\frac{x}{4}\\mathrm{e}^{-\\frac{y}{4}} \\right) \\mathrm{d}y} + {\\int_1^z\\mathrm{d}x \\int_0^{\\left( z-x \\right)} \\left( \\frac{2-z}{4}x\\mathrm{e}^{-\\frac{y}{4}} \\right) \\mathrm{d}y} = \\\\\n",
    "{(20-4z)\\mathrm{e}^{\\frac{1-z}{4}}-16\\mathrm{e}^{\\frac{-z}{4}}-z^2+7z-\\frac{19}{2}} $$"
   ]
  },
  {
   "cell_type": "markdown",
   "metadata": {},
   "source": [
    "$$\n",
    "\\text{если }2<z, \\\\\n",
    "F_z = P(Z<z)=P(X+Y<z)=\n",
    "{\\int_0^1\\mathrm{d}x \\int_0^{\\left( z-x \\right)} \\left( \\frac{x}{4}\\mathrm{e}^{-\\frac{y}{4}} \\right) \\mathrm{d}y} + \n",
    "{\\int_1^2\\mathrm{d}x \\int_0^{\\left( z-x \\right)} \\left( \\frac{2-z}{4}x\\mathrm{e}^{-\\frac{y}{4}} \\right) \\mathrm{d}y} \n",
    "= \\\\\n",
    "{32\\mathrm{e}^{\\frac{1-z}{4}}-16\\mathrm{e}^{\\frac{2-z}{4}}-16\\mathrm{e}^{-\\frac{z}{4}}+1}\n",
    "$$"
   ]
  },
  {
   "cell_type": "markdown",
   "metadata": {},
   "source": [
    "$$\\text{если } \n",
    "0<z<1, \\\\\n",
    "f(z) = \\frac{\\mathrm{d}}{\\mathrm{d}z} \\left(\\frac{z^2}{2}-4\\left(z+4\\mathrm{e}^{-\\frac{z}{4}} - 4\\right) \\right) = z + 4 \\mathrm{e}^{-\\frac{z}{4}} - 4 $$"
   ]
  },
  {
   "cell_type": "markdown",
   "metadata": {},
   "source": [
    "$$\n",
    "\\text{если } \n",
    "1<z<2, \\\\\n",
    "f(z) = \\frac{\\mathrm{d}}{\\mathrm{d}z} \\left({(20-4z)\\mathrm{e}^{\\frac{1-z}{4}}-16\\mathrm{e}^{\\frac{-z}{4}}-z^2+7z-\\frac{19}{2}}\\right) = \\\\\n",
    "4\\mathrm{e}^{-\\frac{z}{4}} - 4 \\mathrm{e}^{\\frac{1 - z}{4}} -\\frac{20 - 4z}{4}\\mathrm{e}^{\\frac{1 - z}{4}}- 2z + 7 = \\\\\\mathrm{e}^{\\frac{1 - z}{4}} \\left(4z+36 \\right)+4\\mathrm{e}^{-\\frac{z}{4}}- 2z + 7\n",
    "$$"
   ]
  },
  {
   "cell_type": "markdown",
   "metadata": {},
   "source": [
    "$$\n",
    "\\text{если } \n",
    "2 < z, \\\\\n",
    "f(z) = \\frac{\\mathrm{d}}{\\mathrm{d}z} \\left({32\\mathrm{e}^{\\frac{1-z}{4}}-16\\mathrm{e}^{\\frac{2-z}{4}}-16\\mathrm{e}^{-\\frac{z}{4}}+1} \\right) = 4 \\left(  \\mathrm{e}^{\\frac{1}{4}} - 1 \\right )^2 \\mathrm{e}^{-\\frac{z}{4}}\n",
    "$$"
   ]
  },
  {
   "cell_type": "code",
   "execution_count": null,
   "metadata": {},
   "outputs": [],
   "source": []
  }
 ],
 "metadata": {
  "kernelspec": {
   "display_name": "Python 2",
   "language": "python",
   "name": "python2"
  },
  "language_info": {
   "codemirror_mode": {
    "name": "ipython",
    "version": 2
   },
   "file_extension": ".py",
   "mimetype": "text/x-python",
   "name": "python",
   "nbconvert_exporter": "python",
   "pygments_lexer": "ipython2",
   "version": "2.7.16"
  }
 },
 "nbformat": 4,
 "nbformat_minor": 2
}
