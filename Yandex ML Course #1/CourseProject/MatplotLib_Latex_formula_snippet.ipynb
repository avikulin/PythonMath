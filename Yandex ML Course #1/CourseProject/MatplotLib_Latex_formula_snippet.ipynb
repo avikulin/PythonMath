{
 "cells": [
  {
   "cell_type": "code",
   "execution_count": 2,
   "metadata": {},
   "outputs": [],
   "source": [
    "import math\n",
    "import numpy as np\n",
    "from matplotlib import pyplot as plt"
   ]
  },
  {
   "cell_type": "markdown",
   "metadata": {},
   "source": [
    "$${f_x =\n",
    "  \\begin{cases}\n",
    "    0    & , x < 0\\\\\n",
    "    x    & , 0\\leq x \\leq 1\\\\\n",
    "    2-x  & , 1\\leq x \\leq2\\\\\n",
    "    0    & , 0 < x\\\\\n",
    "  \\end{cases}\n",
    "} \\quad \\quad \\quad \\quad\n",
    "{f_y = \\frac{1}{4}\\mathrm{e}^{-\\frac{y}{4}}}$$"
   ]
  },
  {
   "cell_type": "markdown",
   "metadata": {},
   "source": [
    "$$\n",
    "f_{xy} (X=x, Y=y) = \\begin{cases}\n",
    "\\frac{x}{4}\\mathrm{e}^{-\\frac{y}{4}}, D\\left\\{x,y: x \\in (0,1), y \\in (0,+\\infty)\\right\\}\\\\\n",
    "\\frac{2-x}{4}\\mathrm{e}^{-\\frac{y}{4}}, D\\left\\{x,y: x \\in (1,2), y \\in (0,+\\infty)\\right\\}\\\\\n",
    "0, D\\left\\{x,y: x \\notin (1,2), y < 0)\\right\\}\\\\\n",
    "\\end{cases}\n",
    "$$"
   ]
  },
  {
   "cell_type": "markdown",
   "metadata": {},
   "source": [
    "$$\n",
    "F_{z} = \\begin{cases}\n",
    "\\int_0^z\\mathrm{d}x \\int_0^{\\left( z-x \\right)} \\left( \\frac{x}{4}\\mathrm{e}^{-\\frac{y}{4}} \\right) \\mathrm{d}y,       & 0 \\leq z \\leq 1\\\\\n",
    "{\\int_0^1\\mathrm{d}x \\int_0^{\\left( z-x \\right)} \\left( \\frac{x}{4}\\mathrm{e}^{-\\frac{y}{4}} \\right)\\mathrm{d}y} \n",
    "+ {\\int_1^z\\mathrm{d}x \\int_0^{\\left( z-x \\right)} \\left( \\frac{2-z}{4}x\\mathrm{e}^{-\\frac{y}{4}} \\right) \\mathrm{d}y}, & 1 \\leq z \\leq 2 \\\\\n",
    "{\\int_0^1\\mathrm{d}x \\int_0^{\\left( z-x \\right)} \\left( \\frac{x}{4}\\mathrm{e}^{-\\frac{y}{4}} \\right) \\mathrm{d}y} + \n",
    "{\\int_1^2\\mathrm{d}x \\int_0^{\\left( z-x \\right)} \\left( \\frac{2-z}{4}x\\mathrm{e}^{-\\frac{y}{4}} \\right) \\mathrm{d}y},  & z > 2 \\\\\n",
    "\\end{cases}\n",
    "\\quad = \\quad\n",
    "\\begin{cases}\n",
    "{\\frac{z^2}{2}-4\\left(z+4\\mathrm{e}^{-\\frac{z}{4}} - 4\\right)},                             & 0 \\leq z \\leq 1\\\\\n",
    "{(20-4z)\\mathrm{e}^{\\frac{1-z}{4}}-16\\mathrm{e}^{\\frac{-z}{4}}-z^2+7z-\\frac{19}{2}},        & 1 \\leq z \\leq 2 \\\\\n",
    "{32\\mathrm{e}^{\\frac{1-z}{4}}-16\\mathrm{e}^{\\frac{2-z}{4}}-16\\mathrm{e}^{-\\frac{z}{4}}+1},  & z > 2 \\\\\n",
    "\\end{cases}\n",
    "$$"
   ]
  },
  {
   "cell_type": "code",
   "execution_count": 3,
   "metadata": {},
   "outputs": [
    {
     "data": {
      "image/png": "[encoded data removed]",
      "text/plain": [
       "<Figure size 432x288 with 1 Axes>"
      ]
     },
     "metadata": {
      "needs_background": "light"
     },
     "output_type": "display_data"
    }
   ],
   "source": [
    "def CDF(z):\n",
    "    if z<0:\n",
    "        return 0\n",
    "    if 0<=z<=1:\n",
    "        return 0.5*(z**2)-4*(z+4*math.exp(-0.25*z)-4)\n",
    "    if 1<=z<=2:\n",
    "        return (20-4*z)*math.exp(0.25*(1-z))-16*math.exp(-0.25*z)-z**2+7*z-19/2.\n",
    "    if z>2:\n",
    "        return 32.*math.exp(0.25*(1.-z))-16.*math.exp(0.25*(2.-z))-16.*math.exp(-0.25*z)+1.\n",
    "\n",
    "x_space = np.linspace(-1,10,1000)\n",
    "z_cdf = map(CDF, x_space)\n",
    "\n",
    "plt.plot(x_space, z_cdf, \"g-\")\n",
    "plt.show()"
   ]
  },
  {
   "cell_type": "markdown",
   "metadata": {},
   "source": [
    "$$\n",
    "{f_x =\n",
    "  \\begin{cases}\n",
    "\t\\frac{\\mathrm{d}}{\\mathrm{d}z} \\left(\\frac{z^2}{2}-4\\left(z+4\\mathrm{e}^{-\\frac{z}{4}} - 4\\right) \\right), & 0 \\leq z \\leq 1 \\\\\n",
    "\t\\frac{\\mathrm{d}}{\\mathrm{d}z} \\left({(20-4z)\\mathrm{e}^{\\frac{1-z}{4}}-16\\mathrm{e}^{\\frac{-z}{4}}-z^2+7z-\\frac{19}{2}}\\right), & 1 \\leq z \\leq 2 \\\\\n",
    "\t\\frac{\\mathrm{d}}{\\mathrm{d}z} \\left({32\\mathrm{e}^{\\frac{1-z}{4}}-16\\mathrm{e}^{\\frac{2-z}{4}}-16\\mathrm{e}^{-\\frac{z}{4}}+1} \\right), & z > 2 \\\\\n",
    "  \\end{cases}\n",
    "} \\quad = \\quad \n",
    "\\begin{cases}\n",
    "\t{z + 4 \\mathrm{e}^{-\\frac{z}{4}} - 4},  & 0 \\leq z \\leq 1 \\\\\n",
    "\t{\\mathrm{e}^{\\frac{1 - z}{4}} \\left(4z+36 \\right)+4\\mathrm{e}^{-\\frac{z}{4}}- 2z + 7}, & 1 \\leq z \\leq 2 \\\\\n",
    "\t{4 \\left(  \\mathrm{e}^{\\frac{1}{4}} - 1 \\right )^2 \\mathrm{e}^{-\\frac{z}{4}}}, & z > 2 \\\\\n",
    "\\end{cases}\n",
    "$$"
   ]
  },
  {
   "cell_type": "code",
   "execution_count": null,
   "metadata": {},
   "outputs": [],
   "source": [
    "def PDF(z):\n",
    "    if z<0:\n",
    "        return 0\n",
    "    if 0<=z<=1:\n",
    "        "
   ]
  },
  {
   "cell_type": "code",
   "execution_count": null,
   "metadata": {},
   "outputs": [],
   "source": []
  },
  {
   "cell_type": "code",
   "execution_count": null,
   "metadata": {},
   "outputs": [],
   "source": []
  },
  {
   "cell_type": "code",
   "execution_count": null,
   "metadata": {},
   "outputs": [],
   "source": []
  },
  {
   "cell_type": "code",
   "execution_count": null,
   "metadata": {},
   "outputs": [],
   "source": []
  },
  {
   "cell_type": "code",
   "execution_count": null,
   "metadata": {},
   "outputs": [],
   "source": []
  },
  {
   "cell_type": "code",
   "execution_count": null,
   "metadata": {},
   "outputs": [],
   "source": []
  },
  {
   "cell_type": "markdown",
   "metadata": {},
   "source": [
    "$$\n",
    "{\\text{если } 0<z<1, }\\\\\n",
    "F_z = P(Z<z)=P(X+Y<z)=\\int_0^z\\mathrm{d}x \\int_0^{\\left( z-x \\right)} \\left( \n",
    "\\frac{x}{4}\\mathrm{e}^{-\\frac{y}{4}} \\right) \\mathrm{d}y = \\frac{z^2}{2}-4\\left(z+4\\mathrm{e}^{-\\frac{z}{4}} - 4\\right)\\\\  \n",
    "$$"
   ]
  },
  {
   "cell_type": "markdown",
   "metadata": {},
   "source": [
    "$$ \\text{если } 1<z<2, \\\\\n",
    "F_z = P(Z<z)=P(X+Y<z)={\\int_0^1\\mathrm{d}x \\int_0^{\\left( z-x \\right)} \\left( \\frac{x}{4}\\mathrm{e}^{-\\frac{y}{4}} \\right) \\mathrm{d}y} + {\\int_1^z\\mathrm{d}x \\int_0^{\\left( z-x \\right)} \\left( \\frac{2-z}{4}x\\mathrm{e}^{-\\frac{y}{4}} \\right) \\mathrm{d}y} = \\\\\n",
    "{(20-4z)\\mathrm{e}^{\\frac{1-z}{4}}-16\\mathrm{e}^{\\frac{-z}{4}}-z^2+7z-\\frac{19}{2}} $$"
   ]
  },
  {
   "cell_type": "markdown",
   "metadata": {},
   "source": [
    "$$\n",
    "\\text{если }2<z, \\\\\n",
    "F_z = P(Z<z)=P(X+Y<z)=\n",
    "{\\int_0^1\\mathrm{d}x \\int_0^{\\left( z-x \\right)} \\left( \\frac{x}{4}\\mathrm{e}^{-\\frac{y}{4}} \\right) \\mathrm{d}y} + \n",
    "{\\int_1^2\\mathrm{d}x \\int_0^{\\left( z-x \\right)} \\left( \\frac{2-z}{4}x\\mathrm{e}^{-\\frac{y}{4}} \\right) \\mathrm{d}y} \n",
    "= \\\\\n",
    "{32\\mathrm{e}^{\\frac{1-z}{4}}-16\\mathrm{e}^{\\frac{2-z}{4}}-16\\mathrm{e}^{-\\frac{z}{4}}+1}\n",
    "$$"
   ]
  },
  {
   "cell_type": "markdown",
   "metadata": {},
   "source": [
    "$$\n",
    "\\forall z \\in \\left[0, 1\\right]: \\quad\n",
    "f(z) = \\frac{\\mathrm{d}}{\\mathrm{d}z} \\left(\\frac{z^2}{2}-4\\left(z+4\\mathrm{e}^{-\\frac{z}{4}} - 4\\right) \\right) = z + 4 \\mathrm{e}^{-\\frac{z}{4}} - 4 $$"
   ]
  },
  {
   "cell_type": "markdown",
   "metadata": {},
   "source": [
    "$$\n",
    "\\forall z \\in \\left[1, 2\\right]: \\quad\n",
    "f(z) = \\frac{\\mathrm{d}}{\\mathrm{d}z} \\left({(20-4z)\\mathrm{e}^{\\frac{1-z}{4}}-16\\mathrm{e}^{\\frac{-z}{4}}-z^2+7z-\\frac{19}{2}}\\right) = \n",
    "4\\mathrm{e}^{-\\frac{z}{4}} - 4 \\mathrm{e}^{\\frac{1 - z}{4}} -\\frac{20 - 4z}{4}\\mathrm{e}^{\\frac{1 - z}{4}}- 2z + 7 = \\\\\\mathrm{e}^{\\frac{1 - z}{4}} \\left(4z+36 \\right)+4\\mathrm{e}^{-\\frac{z}{4}}- 2z + 7\n",
    "$$"
   ]
  },
  {
   "cell_type": "markdown",
   "metadata": {},
   "source": [
    "$$\n",
    "\\forall z \\in \\left[2, \\infty \\right): \\quad \n",
    "f(z) = \\frac{\\mathrm{d}}{\\mathrm{d}z} \\left({32\\mathrm{e}^{\\frac{1-z}{4}}-16\\mathrm{e}^{\\frac{2-z}{4}}-16\\mathrm{e}^{-\\frac{z}{4}}+1} \\right) = 4 \\left(  \\mathrm{e}^{\\frac{1}{4}} - 1 \\right )^2 \\mathrm{e}^{-\\frac{z}{4}}\n",
    "$$"
   ]
  },
  {
   "cell_type": "code",
   "execution_count": null,
   "metadata": {},
   "outputs": [],
   "source": []
  }
 ],
 "metadata": {
  "kernelspec": {
   "display_name": "Python 2",
   "language": "python",
   "name": "python2"
  },
  "language_info": {
   "codemirror_mode": {
    "name": "ipython",
    "version": 2
   },
   "file_extension": ".py",
   "mimetype": "text/x-python",
   "name": "python",
   "nbconvert_exporter": "python",
   "pygments_lexer": "ipython2",
   "version": "2.7.16"
  }
 },
 "nbformat": 4,
 "nbformat_minor": 2
}
