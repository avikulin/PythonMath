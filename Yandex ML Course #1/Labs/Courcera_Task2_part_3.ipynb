{
 "cells": [
  {
   "cell_type": "code",
   "execution_count": 3,
   "metadata": {},
   "outputs": [],
   "source": [
    "import math\n",
    "import numpy as np\n",
    "from scipy import optimize\n",
    "from matplotlib import pyplot"
   ]
  },
  {
   "cell_type": "code",
   "execution_count": 4,
   "metadata": {},
   "outputs": [],
   "source": [
    "def custom_function (arg):\n",
    "    return int(math.sin(arg / 5.) * math.exp(arg / 10.) + 5. * math.exp(-arg / 2.))\n",
    "\n",
    "def custom_vector_function(arg_Vector):\n",
    "    return np.array( map(custom_function, arg_Vector) )"
   ]
  },
  {
   "cell_type": "code",
   "execution_count": 7,
   "metadata": {},
   "outputs": [
    {
     "name": "stdout",
     "output_type": "stream",
     "text": [
      "x (min, max, shape) - 1.0 29.900000000000027 (290L,)\n",
      "y (first, last, shape) - 3 -5 (290L,)\n",
      "bias on x-axis =  1.0\n"
     ]
    }
   ],
   "source": [
    "values_x = np.arange(1, 30, 0.1)\n",
    "values_y = custom_vector_function(values_x)\n",
    "\n",
    "x_bias = values_x[0]\n",
    "\n",
    "print \"x (min, max, shape) -\", values_x[0], values_x[-1], values_x.shape\n",
    "print \"y (first, last, shape) -\", values_y[0], values_y[-1],values_y.shape\n",
    "print \"bias on x-axis = \", x_bias"
   ]
  },
  {
   "cell_type": "code",
   "execution_count": 6,
   "metadata": {},
   "outputs": [
    {
     "data": {
      "image/png": "[encoded data removed]",
      "text/plain": [
       "<Figure size 432x288 with 1 Axes>"
      ]
     },
     "metadata": {
      "needs_background": "light"
     },
     "output_type": "display_data"
    }
   ],
   "source": [
    "pyplot.title(\"Original function\")\n",
    "pyplot.plot(values_x, values_y)\n",
    "pyplot.show()"
   ]
  },
  {
   "cell_type": "code",
   "execution_count": 11,
   "metadata": {},
   "outputs": [
    {
     "name": "stdout",
     "output_type": "stream",
     "text": [
      "Gradient minimization with BFGS:\n",
      "Optimisation: OK =  True  Message =  Optimization terminated successfully. Result =  [27.24269431]\n",
      "Calculated min, point =  (30.0, -5)  / x-bias =  1.0\n"
     ]
    }
   ],
   "source": [
    "min_result_BFGS = optimize.minimize(fun=custom_function, x0=[30,], method=\"BFGS\")\n",
    "min_point_BFGS = (min_result_BFGS.x[0], values_y[int((min_result_BFGS.x[0] - x_bias)*10-1)])\n",
    "\n",
    "print \"Gradient minimization with BFGS:\"\n",
    "print \"Optimisation: OK = \", min_result_BFGS.success, \" Message = \", min_result_BFGS.message, \"Result = \", min_result.x\n",
    "print \"Calculated min, point = \", min_point_BFGS, \" / x-bias = \", x_bias"
   ]
  },
  {
   "cell_type": "code",
   "execution_count": 13,
   "metadata": {},
   "outputs": [
    {
     "name": "stdout",
     "output_type": "stream",
     "text": [
      "Differential evolution optimization:\n",
      "Optimisation: OK =  True  Message =  Optimization terminated successfully. Result =  [25.88142885]\n",
      "Calculated min, point =  (25.881428846866694, -11)  / x-bias =  1.0\n"
     ]
    }
   ],
   "source": [
    "differential_bounds = [(1, 30)]\n",
    "\n",
    "min_result_DO = optimize.differential_evolution(func=custom_function, bounds = differential_bounds)\n",
    "min_point_DO = (min_result_DO.x[0], values_y[int((min_result_DO.x[0]-x_bias)*10)-1])\n",
    "\n",
    "print \"Differential evolution optimization:\"\n",
    "print \"Optimisation: OK = \", min_result_DO.success, \" Message = \", min_result_DO.message, \"Result = \", min_result_DO.x\n",
    "print \"Calculated min, point = \", min_point_DO, \" / x-bias = \", x_bias"
   ]
  },
  {
   "cell_type": "code",
   "execution_count": 44,
   "metadata": {},
   "outputs": [
    {
     "name": "stdout",
     "output_type": "stream",
     "text": [
      "Min. value of func (check) =  -11\n",
      "Min. value index  (check) =  25.8\n",
      "\n",
      "Min. value of func (BFGS) =  (30.0, -5)\n",
      "Min. value  of func (DE) =  (25.881428846866694, -11)\n"
     ]
    },
    {
     "data": {
      "image/png": "[encoded data removed]",
      "text/plain": [
       "<Figure size 864x432 with 1 Axes>"
      ]
     },
     "metadata": {
      "needs_background": "light"
     },
     "output_type": "display_data"
    },
    {
     "name": "stdout",
     "output_type": "stream",
     "text": [
      "Approximation error =  4.199999999999999 (BFGS) 0.08142884686669305 (DO)\n",
      "\n",
      "Answer:  -5.00 -11.00\n"
     ]
    }
   ],
   "source": [
    "check_min_value_func = values_y.min()\n",
    "check_min_value_index = x_bias + np.average(np.where(values_y == check_min_value_func)[0])/10.\n",
    "    \n",
    "print \"Min. value of func (check) = \", check_min_value_func\n",
    "print \"Min. value index  (check) = \", check_min_value_index\n",
    "\n",
    "print \"\\nMin. value of func (BFGS) = \", (min_point_BFGS[0], min_point_BFGS[1])\n",
    "print \"Min. value  of func (DE) = \", (min_point_DO[0],min_point_DO[1])\n",
    "\n",
    "pyplot.title(\"Validation of minimizing function\")\n",
    "\n",
    "pyplot.plot(values_x, values_y)\n",
    "pyplot.plot(min_point_BFGS[0], min_point_BFGS[1], \"rv\")\n",
    "pyplot.plot(min_point_DO[0], min_point_DO[1], \"mv\")\n",
    "pyplot.plot(check_min_value_index, check_min_value_func, \"gv\")\n",
    "pyplot.rcParams[\"figure.figsize\"] = [12, 6]\n",
    "pyplot.show()\n",
    "\n",
    "print \"Approximation error = \", abs(min_point_BFGS[0] - check_min_value_index), \"(BFGS)\" , \\\n",
    "    abs(min_point_DO[0] - check_min_value_index), \"(DO)\"\n",
    "\n",
    "print \"\\nAnswer: \", \"{0:.2f}\".format(min_point_BFGS[1]),\"{0:.2f}\".format(min_point_DO[1])"
   ]
  },
  {
   "cell_type": "code",
   "execution_count": 41,
   "metadata": {},
   "outputs": [
    {
     "name": "stdout",
     "output_type": "stream",
     "text": [
      "Result validation check:\n",
      "[  3   3   3   2   2   2   2   2   2   2   2   2   2   2   2   2   2   1\n",
      "   1   1   1   1   1   1   1   1   1   1   1   1   1   1   1   1   1   1\n",
      "   1   1   1   1   1   1   1   1   1   1   1   1   1   1   1   1   1   2\n",
      "   2   2   2   2   2   2   2   2   2   2   2   2   2   2   2   2   2   2\n",
      "   2   2   2   2   2   2   2   2   2   2   2   2   2   2   2   2   2   2\n",
      "   2   2   2   2   2   2   2   2   2   2   2   2   2   2   2   2   2   2\n",
      "   2   2   2   2   2   2   2   2   2   2   1   1   1   1   1   1   1   1\n",
      "   1   1   1   1   1   1   1   1   1   1   0   0   0   0   0   0   0   0\n",
      "   0   0   0   0   0   0   0   0   0   0   0   0   0  -1  -1  -1  -1  -1\n",
      "  -1  -1  -1  -2  -2  -2  -2  -2  -2  -2  -2  -3  -3  -3  -3  -3  -3  -3\n",
      "  -4  -4  -4  -4  -4  -4  -4  -5  -5  -5  -5  -5  -5  -6  -6  -6  -6  -6\n",
      "  -6  -6  -7  -7  -7  -7  -7  -7  -8  -8  -8  -8  -8  -8  -8  -9  -9  -9\n",
      "  -9  -9  -9  -9  -9 -10 -10 -10 -10 -10 -10 -10 -10 -10 -10 -11 -11 -11\n",
      " -11 -11 -11 -11 -11 -11 -11 -11 -11 -11 -11 -11 -11 -11 -11 -11 -11 -11\n",
      " -11 -11 -11 -11 -11 -11 -11 -11 -11 -11 -11 -11 -11 -11 -10 -10 -10 -10\n",
      " -10 -10 -10  -9  -9  -9  -9  -9  -8  -8  -8  -8  -7  -7  -7  -7  -6  -6\n",
      "  -6  -5]\n"
     ]
    }
   ],
   "source": [
    "print \"Result validation check:\"\n",
    "with np.printoptions(precision=3, suppress=True):\n",
    "    print(values_y)"
   ]
  },
  {
   "cell_type": "code",
   "execution_count": 31,
   "metadata": {},
   "outputs": [
    {
     "data": {
      "text/plain": [
       "(array([231, 232, 233, 234, 235, 236, 237, 238, 239, 240, 241, 242, 243,\n",
       "        244, 245, 246, 247, 248, 249, 250, 251, 252, 253, 254, 255, 256,\n",
       "        257, 258, 259, 260, 261, 262, 263, 264, 265], dtype=int64),)"
      ]
     },
     "execution_count": 31,
     "metadata": {},
     "output_type": "execute_result"
    }
   ],
   "source": [
    "np.where(values_y == check_min_value_func)"
   ]
  },
  {
   "cell_type": "code",
   "execution_count": 33,
   "metadata": {},
   "outputs": [
    {
     "data": {
      "text/plain": [
       "248.0"
      ]
     },
     "execution_count": 33,
     "metadata": {},
     "output_type": "execute_result"
    }
   ],
   "source": [
    "np.average(np.where(values_y == check_min_value_func)[0])"
   ]
  },
  {
   "cell_type": "code",
   "execution_count": null,
   "metadata": {},
   "outputs": [],
   "source": []
  }
 ],
 "metadata": {
  "kernelspec": {
   "display_name": "Python 2",
   "language": "python",
   "name": "python2"
  },
  "language_info": {
   "codemirror_mode": {
    "name": "ipython",
    "version": 2
   },
   "file_extension": ".py",
   "mimetype": "text/x-python",
   "name": "python",
   "nbconvert_exporter": "python",
   "pygments_lexer": "ipython2",
   "version": "2.7.16"
  }
 },
 "nbformat": 4,
 "nbformat_minor": 2
}
