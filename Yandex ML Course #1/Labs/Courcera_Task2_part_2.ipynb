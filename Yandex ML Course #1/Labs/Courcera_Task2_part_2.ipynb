{
 "cells": [
  {
   "cell_type": "code",
   "execution_count": 2,
   "metadata": {},
   "outputs": [],
   "source": [
    "import math\n",
    "import numpy as np\n",
    "from scipy import optimize\n",
    "from matplotlib import pyplot"
   ]
  },
  {
   "cell_type": "code",
   "execution_count": 3,
   "metadata": {},
   "outputs": [],
   "source": [
    "def custom_function (arg):\n",
    "    return math.sin(arg / 5.) * math.exp(arg / 10.) + 5. * math.exp(-arg / 2.)\n",
    "\n",
    "def custom_vector_function(arg_Vector):\n",
    "    return np.array( map(custom_function, arg_Vector) )"
   ]
  },
  {
   "cell_type": "code",
   "execution_count": 4,
   "metadata": {},
   "outputs": [
    {
     "name": "stdout",
     "output_type": "stream",
     "text": [
      "x (min, max, shape) - 1.0 29.900000000000027 (290L,)\n",
      "y (first, last, shape) - 3.252216865271419 -5.937102407424487 (290L,)\n"
     ]
    }
   ],
   "source": [
    "values_x = np.arange(1, 30, 0.1)\n",
    "values_y = custom_vector_function(values_x)\n",
    "print \"x (min, max, shape) -\", values_x[0], values_x[-1], values_x.shape\n",
    "print \"y (first, last, shape) -\", values_y[0], values_y[-1],values_y.shape"
   ]
  },
  {
   "cell_type": "code",
   "execution_count": 6,
   "metadata": {},
   "outputs": [
    {
     "name": "stdout",
     "output_type": "stream",
     "text": [
      "Optimisation: OK =  True  Message =  Optimization terminated successfully. Result =  [25.88019733]\n",
      "Calculated min, point =  (25.880197332640076, -11.896991866210282)  / x-bias =  1.0\n"
     ]
    }
   ],
   "source": [
    "x_bias = values_x[0]\n",
    "\n",
    "differential_bounds = [(1, 30)]\n",
    "\n",
    "min_result = optimize.differential_evolution(func=custom_function, bounds = differential_bounds)\n",
    "min_point = (min_result.x[0], values_y[int((min_result.x[0]-x_bias)*10)])\n",
    "\n",
    "print \"Optimisation: OK = \", min_result.success, \" Message = \", min_result.message, \"Result = \", min_result.x\n",
    "print \"Calculated min, point = \", min_point, \" / x-bias = \", x_bias"
   ]
  },
  {
   "cell_type": "code",
   "execution_count": 7,
   "metadata": {},
   "outputs": [
    {
     "name": "stdout",
     "output_type": "stream",
     "text": [
      "Min. value of func (check) =  -11.898777807806216\n",
      "Min. value index  (check) =  25.9\n",
      "\n",
      "Min. value of func (calculated) =  -11.896991866210282\n",
      "Min. value index  (calculated) =  25.880197332640076\n"
     ]
    },
    {
     "data": {
      "image/png": "[encoded data removed]",
      "text/plain": [
       "<Figure size 432x288 with 1 Axes>"
      ]
     },
     "metadata": {
      "needs_background": "light"
     },
     "output_type": "display_data"
    },
    {
     "name": "stdout",
     "output_type": "stream",
     "text": [
      "Approximation error =  [0.01980267]\n",
      "\n",
      "Answer:  -11.90\n"
     ]
    }
   ],
   "source": [
    "check_min_value_func = values_y.min()\n",
    "check_min_value_index = x_bias + (np.where(values_y == values_y.min())[0])/10.\n",
    "    \n",
    "print \"Min. value of func (check) = \", check_min_value_func\n",
    "print \"Min. value index  (check) = \", check_min_value_index[0]\n",
    "\n",
    "print \"\\nMin. value of func (calculated) = \", min_point[1]\n",
    "print \"Min. value index  (calculated) = \", min_point[0]\n",
    "\n",
    "pyplot.title(\"Validation of minimizing function\")\n",
    "\n",
    "pyplot.plot(values_x, values_y)\n",
    "pyplot.plot(min_point[0], min_point[1], \"rv\")\n",
    "pyplot.plot(check_min_value_index, check_min_value_func, \"gv\")\n",
    "pyplot.show()\n",
    "\n",
    "print \"Approximation error = \", abs(min_point[0] - check_min_value_index)\n",
    "\n",
    "print \"\\nAnswer: \", \"{0:.2f}\".format(min_point[1])"
   ]
  },
  {
   "cell_type": "code",
   "execution_count": null,
   "metadata": {},
   "outputs": [],
   "source": [
    "print \"Result validation check:\"\n",
    "with np.printoptions(precision=3, suppress=True):\n",
    "    print(values_y)"
   ]
  },
  {
   "cell_type": "code",
   "execution_count": null,
   "metadata": {},
   "outputs": [],
   "source": []
  }
 ],
 "metadata": {
  "kernelspec": {
   "display_name": "Python 2",
   "language": "python",
   "name": "python2"
  },
  "language_info": {
   "codemirror_mode": {
    "name": "ipython",
    "version": 2
   },
   "file_extension": ".py",
   "mimetype": "text/x-python",
   "name": "python",
   "nbconvert_exporter": "python",
   "pygments_lexer": "ipython2",
   "version": "2.7.16"
  }
 },
 "nbformat": 4,
 "nbformat_minor": 2
}
