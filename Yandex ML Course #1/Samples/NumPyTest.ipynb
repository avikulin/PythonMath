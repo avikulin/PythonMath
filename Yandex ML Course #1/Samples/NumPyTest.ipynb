{
 "cells": [
  {
   "cell_type": "code",
   "execution_count": 1,
   "metadata": {},
   "outputs": [],
   "source": [
    "import numpy as np"
   ]
  },
  {
   "cell_type": "code",
   "execution_count": 10,
   "metadata": {},
   "outputs": [
    {
     "name": "stdout",
     "output_type": "stream",
     "text": [
      "<type 'numpy.ndarray'> [ 1  2  3  4  5  6  7  8  9 10]\n"
     ]
    }
   ],
   "source": [
    "lst = [1,2,3,4,5,6,7,8,9,10]\n",
    "arr = np.array([1,2,3,4,5,6,7,8,9,10])\n",
    "print type(arr), arr"
   ]
  },
  {
   "cell_type": "code",
   "execution_count": 7,
   "metadata": {},
   "outputs": [
    {
     "data": {
      "text/plain": [
       "array([1, 2, 3])"
      ]
     },
     "execution_count": 7,
     "metadata": {},
     "output_type": "execute_result"
    }
   ],
   "source": [
    "arr[0:3]"
   ]
  },
  {
   "cell_type": "code",
   "execution_count": 8,
   "metadata": {},
   "outputs": [
    {
     "data": {
      "text/plain": [
       "array([1, 6])"
      ]
     },
     "execution_count": 8,
     "metadata": {},
     "output_type": "execute_result"
    }
   ],
   "source": [
    "arr[[0,5]]"
   ]
  },
  {
   "cell_type": "code",
   "execution_count": 9,
   "metadata": {},
   "outputs": [
    {
     "data": {
      "text/plain": [
       "array([ 6,  7,  8,  9, 10])"
      ]
     },
     "execution_count": 9,
     "metadata": {},
     "output_type": "execute_result"
    }
   ],
   "source": [
    "arr[ arr > 5]"
   ]
  },
  {
   "cell_type": "code",
   "execution_count": 12,
   "metadata": {},
   "outputs": [
    {
     "data": {
      "text/plain": [
       "[1, 2, 3, 4, 5, 6, 7, 8, 9, 10, 1, 2, 3, 4, 5, 6, 7, 8, 9, 10]"
      ]
     },
     "execution_count": 12,
     "metadata": {},
     "output_type": "execute_result"
    }
   ],
   "source": [
    "lst*2"
   ]
  },
  {
   "cell_type": "code",
   "execution_count": 16,
   "metadata": {},
   "outputs": [
    {
     "name": "stdout",
     "output_type": "stream",
     "text": [
      "Orig -  [ 1  2  3  4  5  6  7  8  9 10]\n",
      "Mod -  [ 2  4  6  8 10 12 14 16 18 20]\n"
     ]
    }
   ],
   "source": [
    "print \"Orig - \", arr\n",
    "print \"Mod - \", arr*2"
   ]
  },
  {
   "cell_type": "code",
   "execution_count": 17,
   "metadata": {},
   "outputs": [
    {
     "name": "stdout",
     "output_type": "stream",
     "text": [
      "Orig -  [ 1  2  3  4  5  6  7  8  9 10]\n",
      "Mod -  [  1   4   9  16  25  36  49  64  81 100]\n"
     ]
    }
   ],
   "source": [
    "print \"Orig - \", arr\n",
    "print \"Mod - \", arr**2"
   ]
  },
  {
   "cell_type": "code",
   "execution_count": 20,
   "metadata": {},
   "outputs": [
    {
     "data": {
      "text/plain": [
       "1"
      ]
     },
     "execution_count": 20,
     "metadata": {},
     "output_type": "execute_result"
    }
   ],
   "source": [
    "matrix = [[1,2,3],[4,5,6]]\n",
    "matrix[0][0]"
   ]
  },
  {
   "cell_type": "code",
   "execution_count": 23,
   "metadata": {},
   "outputs": [
    {
     "data": {
      "text/plain": [
       "6"
      ]
     },
     "execution_count": 23,
     "metadata": {},
     "output_type": "execute_result"
    }
   ],
   "source": [
    "arr_2d = np.array(matrix)\n",
    "arr_2d[1,2]"
   ]
  },
  {
   "cell_type": "code",
   "execution_count": 32,
   "metadata": {},
   "outputs": [
    {
     "name": "stdout",
     "output_type": "stream",
     "text": [
      "Rand (EQ) -  [0.86645369 0.31006266 0.76004135] \n",
      "\n",
      "Rand (N) - \n",
      "[[ 0.41538509  1.60381089  0.17985184]\n",
      " [ 0.44209026 -1.18178129 -0.38446152]\n",
      " [-0.65157851 -1.08976814 -0.17385128]]\n"
     ]
    }
   ],
   "source": [
    "print \"Rand (EQ) - \", np.random.random(3), \"\\n\"\n",
    "print \"Rand (N) - \\n\", np.random.randn(3,3)"
   ]
  },
  {
   "cell_type": "code",
   "execution_count": 39,
   "metadata": {},
   "outputs": [
    {
     "data": {
      "text/plain": [
       "array([    1,     4,     9,    16,    25,    36,    49,    64,    81,\n",
       "         100,   121,   144,   169,   196,   225,   256,   289,   324,\n",
       "         361,   400,   441,   484,   529,   576,   625,   676,   729,\n",
       "         784,   841,   900,   961,  1024,  1089,  1156,  1225,  1296,\n",
       "        1369,  1444,  1521,  1600,  1681,  1764,  1849,  1936,  2025,\n",
       "        2116,  2209,  2304,  2401,  2500,  2601,  2704,  2809,  2916,\n",
       "        3025,  3136,  3249,  3364,  3481,  3600,  3721,  3844,  3969,\n",
       "        4096,  4225,  4356,  4489,  4624,  4761,  4900,  5041,  5184,\n",
       "        5329,  5476,  5625,  5776,  5929,  6084,  6241,  6400,  6561,\n",
       "        6724,  6889,  7056,  7225,  7396,  7569,  7744,  7921,  8100,\n",
       "        8281,  8464,  8649,  8836,  9025,  9216,  9409,  9604,  9801,\n",
       "       10000])"
      ]
     },
     "execution_count": 39,
     "metadata": {},
     "output_type": "execute_result"
    }
   ],
   "source": [
    "np.arange(1,101)**2"
   ]
  },
  {
   "cell_type": "code",
   "execution_count": null,
   "metadata": {},
   "outputs": [],
   "source": []
  }
 ],
 "metadata": {
  "kernelspec": {
   "display_name": "Python 2",
   "language": "python",
   "name": "python2"
  },
  "language_info": {
   "codemirror_mode": {
    "name": "ipython",
    "version": 2
   },
   "file_extension": ".py",
   "mimetype": "text/x-python",
   "name": "python",
   "nbconvert_exporter": "python",
   "pygments_lexer": "ipython2",
   "version": "2.7.16"
  }
 },
 "nbformat": 4,
 "nbformat_minor": 2
}
