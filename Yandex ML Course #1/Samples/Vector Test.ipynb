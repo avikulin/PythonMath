{
 "cells": [
  {
   "cell_type": "code",
   "execution_count": 1,
   "metadata": {},
   "outputs": [],
   "source": [
    "import numpy as np"
   ]
  },
  {
   "cell_type": "code",
   "execution_count": 4,
   "metadata": {},
   "outputs": [
    {
     "name": "stdout",
     "output_type": "stream",
     "text": [
      "Norm: 3.0\n"
     ]
    }
   ],
   "source": [
    "a = np.array([1,2,2])\n",
    "print \"Norm:\", np.linalg.norm(a,ord=2)"
   ]
  },
  {
   "cell_type": "code",
   "execution_count": 5,
   "metadata": {},
   "outputs": [
    {
     "name": "stdout",
     "output_type": "stream",
     "text": [
      "Distance 2.449489742783178\n"
     ]
    }
   ],
   "source": [
    "b = np.array([3,3,3])\n",
    "print \"Distance\", np.linalg.norm(b-a, ord=2)"
   ]
  },
  {
   "cell_type": "code",
   "execution_count": 6,
   "metadata": {},
   "outputs": [],
   "source": [
    "from scipy.spatial.distance import cdist"
   ]
  },
  {
   "cell_type": "code",
   "execution_count": 10,
   "metadata": {},
   "outputs": [
    {
     "name": "stdout",
     "output_type": "stream",
     "text": [
      "Vector a dimmensions:  (3,)\n",
      "Vector b dimmensions:  (3,)\n"
     ]
    }
   ],
   "source": [
    "print \"Vector a dimmensions: \", a.shape\n",
    "print \"Vector b dimmensions: \", b.shape"
   ]
  },
  {
   "cell_type": "code",
   "execution_count": 12,
   "metadata": {},
   "outputs": [
    {
     "name": "stdout",
     "output_type": "stream",
     "text": [
      "Vector a dimmensions:  (1, 3)\n",
      "Vector b dimmensions:  (1, 3)\n"
     ]
    }
   ],
   "source": [
    "a1 = a.reshape(1,3)\n",
    "b1 = b.reshape(1,3)\n",
    "print \"Vector a dimmensions: \", a1.shape\n",
    "print \"Vector b dimmensions: \", b1.shape"
   ]
  },
  {
   "cell_type": "code",
   "execution_count": 14,
   "metadata": {},
   "outputs": [
    {
     "name": "stdout",
     "output_type": "stream",
     "text": [
      " Distance (prove):  [[2.44948974]]\n"
     ]
    }
   ],
   "source": [
    "print \"Distance (prove): \", cdist(a1, b1, metric=\"euclidean\")"
   ]
  },
  {
   "cell_type": "code",
   "execution_count": 15,
   "metadata": {},
   "outputs": [
    {
     "name": "stdout",
     "output_type": "stream",
     "text": [
      "Вектор d: [  3   0   8   9 -10]\n",
      "Его размерность: (5,)\n"
     ]
    }
   ],
   "source": [
    "d = np.array([3, 0, 8, 9, -10])\n",
    "print 'Вектор d:', d\n",
    "print 'Его размерность:', d.shape"
   ]
  },
  {
   "cell_type": "code",
   "execution_count": 16,
   "metadata": {},
   "outputs": [
    {
     "name": "stdout",
     "output_type": "stream",
     "text": [
      "Вектор d с newaxis --> вектор-строка:\n",
      "[[  3   0   8   9 -10]]\n",
      "Полученная размерность: (1, 5)\n",
      "Вектор d с newaxis --> вектор-столбец:\n",
      "[[  3]\n",
      " [  0]\n",
      " [  8]\n",
      " [  9]\n",
      " [-10]]\n",
      "Полученная размерность: (5, 1)\n"
     ]
    }
   ],
   "source": [
    "print 'Вектор d с newaxis --> вектор-строка:\\n', d[np.newaxis, :]\n",
    "print 'Полученная размерность:', d[np.newaxis, :].shape\n",
    "\n",
    "print 'Вектор d с newaxis --> вектор-столбец:\\n', d[:, np.newaxis]\n",
    "print 'Полученная размерность:', d[:, np.newaxis].shape"
   ]
  },
  {
   "cell_type": "code",
   "execution_count": 20,
   "metadata": {},
   "outputs": [
    {
     "name": "stdout",
     "output_type": "stream",
     "text": [
      "[[1]\n",
      " [2]\n",
      " [3]]\n"
     ]
    }
   ],
   "source": [
    "e = np.array([1,2,3])\n",
    "print e[:, np.newaxis]"
   ]
  },
  {
   "cell_type": "code",
   "execution_count": 27,
   "metadata": {},
   "outputs": [
    {
     "name": "stdout",
     "output_type": "stream",
     "text": [
      "Vector A transposed: \n",
      "[[1 2 2]]\n",
      "Vector B transposed: \n",
      "[[3 3 3]]\n",
      "Distance between A and B computed:  [[2.44948974]]\n"
     ]
    }
   ],
   "source": [
    "print \"Vector A transposed: \\n\", a[np.newaxis, :]\n",
    "print \"Vector B transposed: \\n\", b[np.newaxis, :]\n",
    "print \"Distance between A and B computed: \", cdist(a[np.newaxis, :], b[np.newaxis, :], metric=\"euclidean\")"
   ]
  },
  {
   "cell_type": "code",
   "execution_count": 35,
   "metadata": {},
   "outputs": [
    {
     "name": "stdout",
     "output_type": "stream",
     "text": [
      "A:  [1 2 2]\n",
      "B:  [3 3 3]\n",
      "Scalar product A and B:  15\n",
      "Norm A:  3.0\n",
      "Norm B:  5.196152422706632\n",
      "Fngle between A and B:  0.2756427992162655\n"
     ]
    }
   ],
   "source": [
    "print \"A: \", a\n",
    "print \"B: \", b\n",
    "print \"Scalar product A and B: \", np.dot(a,b)\n",
    "print \"Norm A: \", np.linalg.norm(a, ord=2)\n",
    "print \"Norm B: \", np.linalg.norm(b, ord=2)\n",
    "print \"Fngle between A and B: \", np.arccos(np.dot(a,b)/(np.linalg.norm(a, ord=2)*np.linalg.norm(b, ord=2)))"
   ]
  },
  {
   "cell_type": "code",
   "execution_count": 38,
   "metadata": {},
   "outputs": [
    {
     "name": "stdout",
     "output_type": "stream",
     "text": [
      "[1.  1.3 1.6 1.9]\n"
     ]
    }
   ],
   "source": [
    "print np.arange(1, 2, 0.3, dtype=float)"
   ]
  },
  {
   "cell_type": "code",
   "execution_count": null,
   "metadata": {},
   "outputs": [],
   "source": []
  }
 ],
 "metadata": {
  "kernelspec": {
   "display_name": "Python 2",
   "language": "python",
   "name": "python2"
  },
  "language_info": {
   "codemirror_mode": {
    "name": "ipython",
    "version": 2
   },
   "file_extension": ".py",
   "mimetype": "text/x-python",
   "name": "python",
   "nbconvert_exporter": "python",
   "pygments_lexer": "ipython2",
   "version": "2.7.16"
  }
 },
 "nbformat": 4,
 "nbformat_minor": 2
}
